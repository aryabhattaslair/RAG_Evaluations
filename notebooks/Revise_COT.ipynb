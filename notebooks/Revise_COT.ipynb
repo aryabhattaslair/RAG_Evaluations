{
 "cells": [
  {
   "cell_type": "code",
   "execution_count": 1,
   "id": "8948d1cb-8178-47cd-b5f4-b04a459b941c",
   "metadata": {},
   "outputs": [],
   "source": [
    "from langchain_experimental.smart_llm import SmartLLMChain\n",
    "import os"
   ]
  },
  {
   "cell_type": "code",
   "execution_count": 2,
   "id": "1e1ca0a0-7c18-40e1-96c8-86d650899e2a",
   "metadata": {},
   "outputs": [],
   "source": [
    "from langchain.chat_models import ChatOpenAI\n",
    "from langchain.prompts import PromptTemplate"
   ]
  },
  {
   "cell_type": "code",
   "execution_count": 3,
   "id": "17c28ab7-3ccb-433a-acbc-85f8272939c9",
   "metadata": {},
   "outputs": [],
   "source": [
    "os.environ['OPENAI_API_KEY'] = \"openai-key\""
   ]
  },
  {
   "cell_type": "code",
   "execution_count": 4,
   "id": "9741d616-088f-4f69-bccd-753d70913cf0",
   "metadata": {},
   "outputs": [],
   "source": [
    "hard_question = \"I have a 12 liter jug and a 6 liter jug. I want to measure 6 liters. How do I do it?\""
   ]
  },
  {
   "cell_type": "code",
   "execution_count": 5,
   "id": "333ecc04-3cc0-483d-a935-b021134e3a46",
   "metadata": {},
   "outputs": [
    {
     "name": "stderr",
     "output_type": "stream",
     "text": [
      "/usr/local/google/home/dpksharma/PersonalProjects/Workshops/rag_workshop/rag_workshop/ragws/lib/python3.9/site-packages/langchain_core/_api/deprecation.py:119: LangChainDeprecationWarning: The class `ChatOpenAI` was deprecated in LangChain 0.0.10 and will be removed in 0.3.0. An updated version of the class exists in the langchain-openai package and should be used instead. To use it run `pip install -U langchain-openai` and import as `from langchain_openai import ChatOpenAI`.\n",
      "  warn_deprecated(\n"
     ]
    }
   ],
   "source": [
    "prompt = PromptTemplate.from_template(hard_question)\n",
    "llm = ChatOpenAI(temperature=0, model_name=\"gpt-4\")"
   ]
  },
  {
   "cell_type": "code",
   "execution_count": 6,
   "id": "b8ce1fc2-62fa-450a-a05f-e9d1d9b04ed4",
   "metadata": {},
   "outputs": [],
   "source": [
    "chain = SmartLLMChain(llm=llm, prompt=prompt, n_ideas=3, verbose=True)"
   ]
  },
  {
   "cell_type": "code",
   "execution_count": 7,
   "id": "5a2d0ece-805a-4f62-a799-f73f85e76576",
   "metadata": {},
   "outputs": [
    {
     "name": "stderr",
     "output_type": "stream",
     "text": [
      "/usr/local/google/home/dpksharma/PersonalProjects/Workshops/rag_workshop/rag_workshop/ragws/lib/python3.9/site-packages/langchain_core/_api/deprecation.py:119: LangChainDeprecationWarning: The method `Chain.run` was deprecated in langchain 0.1.0 and will be removed in 0.3.0. Use invoke instead.\n",
      "  warn_deprecated(\n"
     ]
    },
    {
     "name": "stdout",
     "output_type": "stream",
     "text": [
      "\n",
      "\n",
      "\u001b[1m> Entering new SmartLLMChain chain...\u001b[0m\n",
      "Prompt after formatting:\n",
      "\u001b[32;1m\u001b[1;3mI have a 12 liter jug and a 6 liter jug. I want to measure 6 liters. How do I do it?\u001b[0m\n",
      "Idea 1:\n",
      "\u001b[36;1m\u001b[1;3m1. Fill the 12 liter jug completely.\n",
      "2. Pour the water from the 12 liter jug into the 6 liter jug until it is full. This will leave you with 6 liters of water in the 12 liter jug.\u001b[0m\n",
      "Idea 2:\n",
      "\u001b[36;1m\u001b[1;3m1. Fill the 12 liter jug completely.\n",
      "2. Pour the water from the 12 liter jug into the 6 liter jug, which will leave you with 6 liters in the 12 liter jug. Now you have exactly 6 liters of water.\u001b[0m\n",
      "Idea 3:\n",
      "\u001b[36;1m\u001b[1;3m1. First, fill the 12 liter jug completely.\n",
      "2. Then, pour the water from the 12 liter jug into the 6 liter jug until it is full. This will leave you with 6 liters of water in the 12 liter jug. \n",
      "3. Now, you have exactly 6 liters of water in the 12 liter jug.\u001b[0m\n",
      "Critique:\n",
      "\u001b[33;1m\u001b[1;3mAnswer 1: The logic in this answer is sound and there are no flaws. It correctly states that by filling the 12 liter jug and then pouring out 6 liters into the other jug, you will be left with 6 liters in the 12 liter jug.\n",
      "\n",
      "Answer 2: This answer is essentially the same as the first one, but it is worded slightly differently. There are no logical flaws or errors in this answer.\n",
      "\n",
      "Answer 3: This answer is also the same as the first two, but it adds an unnecessary third step. The third step simply restates the result of the second step, which is redundant. However, there are no logical flaws or errors in this answer.\u001b[0m\n",
      "Resolution:\n",
      "\u001b[32;1m\u001b[1;3m1. Fill the 12 liter jug to its maximum capacity.\n",
      "2. Carefully pour the water from the 12 liter jug into the 6 liter jug until the 6 liter jug is completely full. \n",
      "3. You will be left with exactly 6 liters of water in the 12 liter jug. This method allows you to accurately measure 6 liters using a 12 liter and a 6 liter jug.\u001b[0m\n",
      "\n",
      "\u001b[1m> Finished chain.\u001b[0m\n"
     ]
    },
    {
     "data": {
      "text/plain": [
       "'1. Fill the 12 liter jug to its maximum capacity.\\n2. Carefully pour the water from the 12 liter jug into the 6 liter jug until the 6 liter jug is completely full. \\n3. You will be left with exactly 6 liters of water in the 12 liter jug. This method allows you to accurately measure 6 liters using a 12 liter and a 6 liter jug.'"
      ]
     },
     "execution_count": 7,
     "metadata": {},
     "output_type": "execute_result"
    }
   ],
   "source": [
    "chain.run({})"
   ]
  },
  {
   "cell_type": "code",
   "execution_count": 8,
   "id": "af780098-d9cc-41ff-8dd5-1b1489c12c45",
   "metadata": {},
   "outputs": [],
   "source": [
    "chain = SmartLLMChain(\n",
    "    ideation_llm=ChatOpenAI(temperature=0.9, model_name=\"gpt-4\"),\n",
    "    llm=ChatOpenAI(\n",
    "        temperature=0, model_name=\"gpt-4\"\n",
    "    ),  # will be used for critique and resolution as no specific llms are given\n",
    "    prompt=prompt,\n",
    "    n_ideas=3,\n",
    "    verbose=True,\n",
    ")"
   ]
  },
  {
   "cell_type": "code",
   "execution_count": 9,
   "id": "cd62103c-e562-4931-bc30-6cade1b86b38",
   "metadata": {},
   "outputs": [
    {
     "name": "stdout",
     "output_type": "stream",
     "text": [
      "\n",
      "\n",
      "\u001b[1m> Entering new SmartLLMChain chain...\u001b[0m\n",
      "Prompt after formatting:\n",
      "\u001b[32;1m\u001b[1;3mI have a 12 liter jug and a 6 liter jug. I want to measure 6 liters. How do I do it?\u001b[0m\n",
      "Idea 1:\n",
      "\u001b[36;1m\u001b[1;3m1. Fill the 12 liter jug fully.\n",
      "2. Then pour from the 12 liter jug into the 6 liter jug, which will leave you with 6 liters in the 12 liter jug. This is because we are effectively removing 6 liters from the 12-liter jug by filling the 6-liter jug.\n",
      "3. Now you have exactly 6 liters in your 12-liter jug. You have successfully measured 6 liters using a 12-liter and a 6-liter jug.\u001b[0m\n",
      "Idea 2:\n",
      "\u001b[36;1m\u001b[1;3mStep 1: Fill the 12 liter jug completely up.\n",
      "Step 2: Pour the water from the 12 liter jug into the 6 liter jug until the 6 liter jug is full. This means you now have 6 liters of water left in the 12 liter jug, and you've successfully measured 6 liters.\u001b[0m\n",
      "Idea 3:\n",
      "\u001b[36;1m\u001b[1;3m1. Fill up the 12 liter jug completely.\n",
      "2. Pour the water from the 12 liter jug into the 6 liter jug. This will leave 6 liters of water in the 12 liter jug since the 6 liter jug can only hold half of the 12 liter jug's capacity.\n",
      "3. You now have your 6 liters of water measured accurately in the 12 liter jug.\u001b[0m\n",
      "Critique:\n",
      "\u001b[33;1m\u001b[1;3mAnswer 1: \n",
      "Flaw 1: The answer assumes that the user can accurately estimate when the 6 liter jug is full while pouring from the 12 liter jug. This may not be accurate and could result in more or less than 6 liters remaining in the 12 liter jug.\n",
      "\n",
      "Answer 2: \n",
      "Flaw 1: Similar to the first answer, this response also assumes that the user can accurately estimate when the 6 liter jug is full while pouring from the 12 liter jug. This could lead to inaccurate measurements.\n",
      "\n",
      "Answer 3: \n",
      "Flaw 1: Again, this answer assumes that the user can accurately determine when the 6 liter jug is full while pouring from the 12 liter jug. This could result in an inaccurate measurement.\n",
      "Flaw 2: The answer suggests that the 6 liter jug can only hold half of the 12 liter jug's capacity. While this is true, it's misleading because it implies that the 6 liter jug's capacity is somehow dependent on the 12 liter jug's capacity, which is not the case. The 6 liter jug can hold 6 liters, regardless of the size of the other jug.\u001b[0m\n",
      "Resolution:\n",
      "\u001b[32;1m\u001b[1;3m1. Fill the 12 liter jug completely with water.\n",
      "2. Carefully pour the water from the 12 liter jug into the 6 liter jug until the 6 liter jug is completely full. It's important to stop pouring as soon as the 6 liter jug is full to ensure an accurate measurement.\n",
      "3. The water remaining in the 12 liter jug is exactly 6 liters. You have successfully measured 6 liters using a 12-liter and a 6-liter jug.\u001b[0m\n",
      "\n",
      "\u001b[1m> Finished chain.\u001b[0m\n"
     ]
    },
    {
     "data": {
      "text/plain": [
       "\"1. Fill the 12 liter jug completely with water.\\n2. Carefully pour the water from the 12 liter jug into the 6 liter jug until the 6 liter jug is completely full. It's important to stop pouring as soon as the 6 liter jug is full to ensure an accurate measurement.\\n3. The water remaining in the 12 liter jug is exactly 6 liters. You have successfully measured 6 liters using a 12-liter and a 6-liter jug.\""
      ]
     },
     "execution_count": 9,
     "metadata": {},
     "output_type": "execute_result"
    }
   ],
   "source": [
    "chain.run({})"
   ]
  },
  {
   "cell_type": "code",
   "execution_count": 12,
   "id": "7acb3e55-27ba-4187-91c1-ff4b7fa6d0e8",
   "metadata": {},
   "outputs": [],
   "source": [
    "query1 = '''The cafeteria had 23 apples.\n",
    "If they used 20 to make lunch and bought 6 more, how many apples do they have?\n",
    "'''"
   ]
  },
  {
   "cell_type": "code",
   "execution_count": 50,
   "id": "0c5ce4b9-4d8a-4375-80a3-880913f7630b",
   "metadata": {},
   "outputs": [],
   "source": [
    "query2 = \"\"\"Roger has 5 tennis balls. He buys 2 more cans of tennis balls.\n",
    "Each can has 3 tennis balls. How many tennis balls does he have now?\"\"\""
   ]
  },
  {
   "cell_type": "code",
   "execution_count": 19,
   "id": "80690563-0d66-431d-b6dd-8613e97b36ba",
   "metadata": {},
   "outputs": [],
   "source": [
    "query3 = \"\"\"How many keystrokes are needed\n",
    "to type the numbers from 1 to 500?\"\"\""
   ]
  },
  {
   "cell_type": "code",
   "execution_count": 23,
   "id": "cc6b2a84-d2f5-4313-bea7-452fd313fb09",
   "metadata": {},
   "outputs": [],
   "source": [
    "query4 = \"\"\"A juggler can juggle 16 balls.\n",
    "Half of the balls are golf balls, and half of the golf balls are blue.\n",
    "How manu blue golf balls are there?\"\"\""
   ]
  },
  {
   "cell_type": "code",
   "execution_count": 66,
   "id": "8886602e-9b40-49f5-8182-5012571b0bc8",
   "metadata": {},
   "outputs": [],
   "source": [
    "query5 = \"\"\"The bakers at the Beverly Hills Bakery baked 200 loaves of bread on Monday morning.\n",
    "They sold 93 loaves in the morning and 39 loaves in the afternoon. A grocery store returned 6 unsold loaves.\n",
    "How manu loaves of bread did they have left?\"\"\""
   ]
  },
  {
   "cell_type": "code",
   "execution_count": 54,
   "id": "a7bac49f-b2a7-4e4b-8572-424a54d471c0",
   "metadata": {},
   "outputs": [],
   "source": [
    "query6 = \"\"\"\n",
    "7 axles are equally spaced around a circle.\n",
    "A gear is placed on each axle such that each gear is engaged with the gear to its left and the gear to its right.\n",
    "The gears are numbered 1 to 7 around the circle.\n",
    "If gear 3 were rotated clockwise, in which direction would gear 7 rotate?\n",
    "\"\"\""
   ]
  },
  {
   "cell_type": "code",
   "execution_count": 14,
   "id": "5636385a-3c0e-4320-a6c8-37a3585d874d",
   "metadata": {},
   "outputs": [],
   "source": [
    "from openai import OpenAI"
   ]
  },
  {
   "cell_type": "code",
   "execution_count": 69,
   "id": "5770f89e-1112-441b-9a6a-82de7ee23904",
   "metadata": {},
   "outputs": [],
   "source": [
    "def get_response(client, preamble, prompt):\n",
    "    response = client.chat.completions.create(\n",
    "        model=\"gpt-3.5-turbo\",\n",
    "        messages=[\n",
    "            {\"role\": \"system\", \"content\": f'{preamble}'},\n",
    "            {\"role\": \"user\", \"content\": f'{prompt}'}]\n",
    "    )\n",
    "    return response"
   ]
  },
  {
   "cell_type": "code",
   "execution_count": 70,
   "id": "5f71d151-ad7a-4dad-9d11-a973b2f27fdc",
   "metadata": {},
   "outputs": [
    {
     "name": "stdout",
     "output_type": "stream",
     "text": [
      "To find the number of loaves left, we need to subtract the total number of loaves sold and the number of loaves returned from the total number of loaves baked.\n",
      "\n",
      "Total loaves baked = 200\n",
      "Loaves sold in the morning = 93\n",
      "Loaves sold in the afternoon = 39\n",
      "Loaves returned = 6\n",
      "\n",
      "Total loaves left = 200 - (93 + 39) + 6\n",
      "Total loaves left = 200 - 132 + 6\n",
      "Total loaves left = 68\n",
      "\n",
      "Therefore, the bakers at the Beverly Hills Bakery had 68 loaves of bread left.\n"
     ]
    }
   ],
   "source": [
    "client = OpenAI()\n",
    "context = \"\"\"Answer questions showing the full math and reasoning.\n",
    "Follow the pattern in the example.\n",
    "\"\"\"\n",
    "#prompt = \"Write a poem on football.\"\n",
    "response = get_response(client, context, query5)\n",
    "# print(response)\n",
    "text = response.choices[0].message.content\n",
    "print(text)"
   ]
  },
  {
   "cell_type": "code",
   "execution_count": 71,
   "id": "3f4f1422-7162-4ecf-ade2-a9961e47db2b",
   "metadata": {},
   "outputs": [],
   "source": [
    "prompt = PromptTemplate.from_template(query5)"
   ]
  },
  {
   "cell_type": "code",
   "execution_count": 72,
   "id": "e1ecfb3d-f346-45dd-a701-d31f521915b7",
   "metadata": {},
   "outputs": [],
   "source": [
    "chain = SmartLLMChain(\n",
    "    ideation_llm=ChatOpenAI(temperature=0.9, model_name=\"gpt-4-turbo\"),\n",
    "    critique_llm=ChatOpenAI(\n",
    "        temperature=0.9, model_name=\"gpt-4-turbo\"\n",
    "    ),  # will be used for critique and resolution as no specific llms are given\n",
    "    resolver_llm=ChatOpenAI(\n",
    "        temperature=0, model_name=\"gpt-4-turbo\"\n",
    "    ),\n",
    "    prompt=prompt,\n",
    "    n_ideas=3,\n",
    "    verbose=True,\n",
    ")"
   ]
  },
  {
   "cell_type": "code",
   "execution_count": 74,
   "id": "b2910b69-2781-456e-b00e-9a71b9f8fb4a",
   "metadata": {},
   "outputs": [
    {
     "name": "stdout",
     "output_type": "stream",
     "text": [
      "\n",
      "\n",
      "\u001b[1m> Entering new SmartLLMChain chain...\u001b[0m\n",
      "Prompt after formatting:\n",
      "\u001b[32;1m\u001b[1;3mThe bakers at the Beverly Hills Bakery baked 200 loaves of bread on Monday morning.\n",
      "They sold 93 loaves in the morning and 39 loaves in the afternoon. A grocery store returned 6 unsold loaves.\n",
      "How manu loaves of bread did they have left?\u001b[0m\n",
      "Idea 1:\n",
      "\u001b[36;1m\u001b[1;3mStep 1: Calculate the total loaves of bread baked:\n",
      "The bakers baked a total of 200 loaves of bread.\n",
      "\n",
      "Step 2: Account for the loaves sold throughout the day:\n",
      "In the morning, 93 loaves were sold, and in the afternoon, 39 loaves were sold.\n",
      "\n",
      "Step 3: Add the loaves sold together:\n",
      "Total loaves sold = 93 (morning) + 39 (afternoon) = 132 loaves sold.\n",
      "\n",
      "Step 4: Account for the returned loaves:\n",
      "A grocery store returned 6 unsold loaves.\n",
      "\n",
      "Step 5: Calculate the total loaves accounted for after sales and returns:\n",
      "Effective loaves sold = Total loaves sold - Returned loaves = 132 - 6 = 126 loaves.\n",
      "\n",
      "Step 6: Calculate the remaining loaves of bread:\n",
      "Remaining loaves = Total loaves baked - Effective loaves sold = 200 - 126 = 74 loaves.\n",
      "\n",
      "The Beverly Hills Bakery had 74 loaves of bread left.\u001b[0m\n",
      "Idea 2:\n",
      "\u001b[36;1m\u001b[1;3mTo find out how many loaves of bread were left, we need to consider the total number of loaves baked and then subtract the number sold and the number returned. Here's how it breaks down:\n",
      "\n",
      "1. **Total Loaves Baked**: The bakers at the Beverly Hills Bakery baked 200 loaves of bread.\n",
      "\n",
      "2. **Loaves Sold in the Morning**: They sold 93 loaves in the morning.\n",
      "\n",
      "3. **Loaves Sold in the Afternoon**: They sold 39 loaves in the afternoon.\n",
      "\n",
      "4. **Loaves Returned**: A grocery store returned 6 unsold loaves.\n",
      "\n",
      "To calculate the remaining loaves:\n",
      "- First, add the number of loaves sold in the morning and afternoon:\n",
      "  \\( 93 + 39 = 132 \\) loaves sold in total.\n",
      "\n",
      "- Next, add the number of loaves returned to the number sold, as these are no longer available for sale:\n",
      "  \\( 132 + 6 = 138 \\) loaves accounted for (either sold or returned).\n",
      "\n",
      "- Finally, subtract the loaves accounted for from the total loaves baked to find out how many are left:\n",
      "  \\( 200 - 138 = 62 \\).\n",
      "\n",
      "**Answer**: They have 62 loaves of bread left.\u001b[0m\n",
      "Idea 3:\n",
      "\u001b[36;1m\u001b[1;3mHere's how we can calculate the number of loaves left:\n",
      "\n",
      "1. **Total loaves baked:** The bakers baked 200 loaves of bread on Monday morning.\n",
      "\n",
      "2. **Loaves sold in the morning and afternoon:**\n",
      "\n",
      "   - Sold in the morning: 93 loaves\n",
      "   - Sold in the afternoon: 39 loaves\n",
      "   - Total loaves sold: 93 + 39 = 132 loaves\n",
      "\n",
      "3. **Loaves returned by the grocery store:** 6 loaves\n",
      "\n",
      "   Now, these returned loaves are subtracted from the sold loaves because they are no longer considered sold. So, we need to adjust the total number of sold loaves to account for the returns.\n",
      "   \n",
      "   Adjusted total loaves sold: 132 - 6 = 126 loaves\n",
      "\n",
      "4. **Loaves remaining:**\n",
      "   \n",
      "   To find out how many loaves are left, subtract the number of adjusted sold loaves from the total loaves baked.\n",
      "   \n",
      "   Loaves left = Total baked - Adjusted total sold\n",
      "   Loaves left = 200 - 126 = 74\n",
      "\n",
      "Therefore, at the end of Monday, the Beverly Hills Bakery had **74 loaves of bread left**.\u001b[0m\n",
      "Critique:\n",
      "\u001b[33;1m\u001b[1;3mCertainly! Let’s analyze each response to identify potential flaws or instances of faulty logic. \n",
      "\n",
      "### **Analysis of Idea 1:**\n",
      "\n",
      "**Flaws:**\n",
      "1. **Misinterpretation of Returned Loaves:** The calculation seems to assume that returned loaves should be subtracted from the total sold. In most scenarios, returned items should be added back to the inventory rather than be subtracted from sales, as they were not finalized sales.\n",
      "2. **Miscount in Final Inventory:** Based on typical inventory logic, the store would have loaves left over by subtracting total sold (including returns) from what was baked, without subtracting returns from sales.\n",
      "\n",
      "### **Analysis of Idea 2:**\n",
      "\n",
      "**Flaws:**\n",
      "1. **Incorrect Final Calculation:** The response states that 138 loaves are \"accounted for\" and subtracts this from the total baked to get 62 loaves left, ignoring the fact that returned loaves are added back to the available inventory, not just subtracted from total sales.\n",
      "2. **Logic Misstep in Return Addition:** The response treats returned loaves as if still part of the “sold” classification, which could be misleading since these are effectively back in inventory for potential resale. \n",
      "\n",
      "### **Correct Approach:**\n",
      "To find the correct number of loaves left:\n",
      "- Total loaves baked: 200\n",
      "- Total loaves sold: \\(93 \\, \\text{(morning)} + 39 \\, \\text{(afternoon)} = 132\\)\n",
      "- Total effective loaves after considering returns: \\(132 \\, \\text{(sold)} + 6 \\, \\text{(returned)}\\)\n",
      "- Loaves left: \\(200 - 132 = 68 \\, \\text{loaves left}\\)\n",
      "\n",
      "### **Analysis of Idea 3:**\n",
      "\n",
      "**Flaws:**\n",
      "1. **Faulty Return Subtraction:** The logic applied in subtracting the loaves that were returned from the total loaves sold is faulty, as these loaves should be added back to inventory.\n",
      "2. **Misinterpretation of Returns Impact:** Returns have been incorrectly dealt with as a reduction in sales rather than an addition back into available stock.\n",
      "\n",
      "### **Summary:**\n",
      "Each response contains an error in how returns are treated. Returned goods should be added back to the stock rather than subtracted from sales totals. The correct number of loaves left should account for loaves baked minus loaves actually sold, not taking returns from sales but adding returned loaves back to the stock for a correct inventory count. The correct calculation should have been:\n",
      "- Loaves left = Total baked - Total sold\n",
      "- Loaves left = 200 - 132 = 68 loaves left\n",
      "\n",
      "This error in handling returns and final tally calculation resulted in the incorrect number of loaves being reported as leftover in each scenario.\u001b[0m\n",
      "Resolution:\n",
      "\u001b[32;1m\u001b[1;3mTo determine how many loaves of bread were left at the Beverly Hills Bakery after Monday's activities, we need to consider the total number of loaves baked, the number sold, and the number returned. Here's the correct calculation:\n",
      "\n",
      "1. **Total Loaves Baked**: The bakery baked 200 loaves of bread on Monday morning.\n",
      "\n",
      "2. **Loaves Sold**: Throughout the day, the bakery sold a total of 132 loaves (93 loaves in the morning plus 39 loaves in the afternoon).\n",
      "\n",
      "3. **Loaves Returned**: A grocery store returned 6 unsold loaves. These returned loaves are added back to the bakery's inventory since they were not sold.\n",
      "\n",
      "4. **Loaves Remaining**: To find the remaining loaves, subtract the total loaves sold from the total loaves baked, and then add the returned loaves since they are still part of the inventory.\n",
      "   \n",
      "   \\[\n",
      "   \\text{Loaves Remaining} = (\\text{Total Baked} - \\text{Total Sold}) + \\text{Returned Loaves}\n",
      "   \\]\n",
      "   \\[\n",
      "   \\text{Loaves Remaining} = (200 - 132) + 6 = 74\n",
      "   \\]\n",
      "\n",
      "Therefore, after accounting for the sales and returns, the Beverly Hills Bakery had 74 loaves of bread left at the end of Monday.\u001b[0m\n",
      "\n",
      "\u001b[1m> Finished chain.\u001b[0m\n"
     ]
    },
    {
     "data": {
      "text/plain": [
       "\"To determine how many loaves of bread were left at the Beverly Hills Bakery after Monday's activities, we need to consider the total number of loaves baked, the number sold, and the number returned. Here's the correct calculation:\\n\\n1. **Total Loaves Baked**: The bakery baked 200 loaves of bread on Monday morning.\\n\\n2. **Loaves Sold**: Throughout the day, the bakery sold a total of 132 loaves (93 loaves in the morning plus 39 loaves in the afternoon).\\n\\n3. **Loaves Returned**: A grocery store returned 6 unsold loaves. These returned loaves are added back to the bakery's inventory since they were not sold.\\n\\n4. **Loaves Remaining**: To find the remaining loaves, subtract the total loaves sold from the total loaves baked, and then add the returned loaves since they are still part of the inventory.\\n   \\n   \\\\[\\n   \\\\text{Loaves Remaining} = (\\\\text{Total Baked} - \\\\text{Total Sold}) + \\\\text{Returned Loaves}\\n   \\\\]\\n   \\\\[\\n   \\\\text{Loaves Remaining} = (200 - 132) + 6 = 74\\n   \\\\]\\n\\nTherefore, after accounting for the sales and returns, the Beverly Hills Bakery had 74 loaves of bread left at the end of Monday.\""
      ]
     },
     "execution_count": 74,
     "metadata": {},
     "output_type": "execute_result"
    }
   ],
   "source": [
    "chain.run({})"
   ]
  },
  {
   "cell_type": "code",
   "execution_count": null,
   "id": "5a011652-abfc-4fb5-b74e-c5ce60881ddd",
   "metadata": {},
   "outputs": [],
   "source": []
  }
 ],
 "metadata": {
  "kernelspec": {
   "display_name": "Python 3 (ipykernel)",
   "language": "python",
   "name": "python3"
  },
  "language_info": {
   "codemirror_mode": {
    "name": "ipython",
    "version": 3
   },
   "file_extension": ".py",
   "mimetype": "text/x-python",
   "name": "python",
   "nbconvert_exporter": "python",
   "pygments_lexer": "ipython3",
   "version": "3.9.7"
  }
 },
 "nbformat": 4,
 "nbformat_minor": 5
}
