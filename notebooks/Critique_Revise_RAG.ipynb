{
 "cells": [
  {
   "cell_type": "markdown",
   "id": "48cb2478-93b2-4562-b5b7-b94efa9059d0",
   "metadata": {},
   "source": [
    "# Using Langchain\n"
   ]
  },
  {
   "cell_type": "markdown",
   "id": "7facd709-263c-457c-a675-c3775f8bb43a",
   "metadata": {},
   "source": [
    "## Start with local collection"
   ]
  },
  {
   "cell_type": "code",
   "execution_count": 15,
   "id": "27f59bf7-0b7b-4e46-841c-39be802bd684",
   "metadata": {},
   "outputs": [],
   "source": [
    "import os\n",
    "import openai\n",
    "from pinecone import Pinecone\n",
    "import langchain\n",
    "from langchain.document_loaders import DirectoryLoader\n",
    "from langchain.text_splitter import RecursiveCharacterTextSplitter\n",
    "from langchain.embeddings.openai import OpenAIEmbeddings\n",
    "from langchain.vectorstores import Pinecone as pine\n",
    "from langchain.llms import OpenAI\n",
    "from langchain.chains.question_answering import load_qa_chain\n",
    "from langchain.chat_models import ChatOpenAI\n",
    "\n",
    "from langchain_experimental.smart_llm import SmartLLMChain\n",
    "from langchain.prompts import PromptTemplate"
   ]
  },
  {
   "cell_type": "code",
   "execution_count": 2,
   "id": "d197d094-7c26-4185-bb13-e20147dc606f",
   "metadata": {},
   "outputs": [],
   "source": [
    "os.environ['OPENAI_API_KEY'] = \"openai-key\""
   ]
  },
  {
   "cell_type": "code",
   "execution_count": 33,
   "id": "ae9d11f7-9ccf-429a-ae9e-72f9da2bbe8d",
   "metadata": {},
   "outputs": [],
   "source": [
    "openai_api_key = \"openai-key\""
   ]
  },
  {
   "cell_type": "markdown",
   "id": "831ddd07-1a67-427f-b899-e864ef8be938",
   "metadata": {},
   "source": [
    "#### Loading Basic utilities"
   ]
  },
  {
   "cell_type": "code",
   "execution_count": 3,
   "id": "abae65db-ffe2-4d5b-bbeb-22ab36ec9b91",
   "metadata": {},
   "outputs": [],
   "source": [
    "def load_docs(directory_path):\n",
    "    loader = DirectoryLoader(directory_path)\n",
    "    documents = loader.load()\n",
    "    return documents"
   ]
  },
  {
   "cell_type": "code",
   "execution_count": 4,
   "id": "e734ae84-f0b5-4ac7-996f-703703b0d796",
   "metadata": {},
   "outputs": [],
   "source": [
    "def split_docs(documents, chunk_size=500, chunk_overlap=20):\n",
    "    text_splitter = RecursiveCharacterTextSplitter(chunk_size=chunk_size,\n",
    "                                                   chunk_overlap=chunk_overlap)\n",
    "    docs = text_splitter.split_documents(documents)\n",
    "    return docs"
   ]
  },
  {
   "cell_type": "code",
   "execution_count": null,
   "id": "4dc7420e-ec9a-45e1-9b0f-26a733ffa532",
   "metadata": {},
   "outputs": [],
   "source": []
  },
  {
   "cell_type": "code",
   "execution_count": 23,
   "id": "61740e75-c394-4534-baf4-515ddcb6db83",
   "metadata": {},
   "outputs": [],
   "source": [
    "def create_backend(build_index=False, docs=None, chain_type=\"stuff\", revise=True):\n",
    "\n",
    "    # OpenAI credentials\n",
    "    model_name = \"gpt-3.5-turbo\"\n",
    "\n",
    "    # Pinecone credentials\n",
    "    pinecone_api_key = \"pinecone-key\"\n",
    "    environment = \"gcp-starter\"\n",
    "    index_name = \"rag-news-project\"\n",
    "\n",
    "    embeddings = OpenAIEmbeddings(model=\"text-embedding-ada-002\")\n",
    "\n",
    "    if not revise:\n",
    "        llm = ChatOpenAI(temperature=0, model_name=\"gpt-3.5-turbo\")\n",
    "        chain = load_qa_chain(llm, chain_type=chain_type)\n",
    "    else:\n",
    "        template = \"\"\"\\\n",
    "            Context information is below.\n",
    "            ---------------------\n",
    "            {context}\n",
    "            ---------------------\n",
    "            Given the context information and not prior knowledge, answer the query.\n",
    "            Query: {query}\n",
    "            Answer: \\\n",
    "            \"\"\"\n",
    "        prompt = PromptTemplate.from_template(template)\n",
    "        llm = ChatOpenAI(temperature=0, model_name=\"gpt-4\")\n",
    "        chain = SmartLLMChain(llm=llm, prompt=prompt, n_ideas=3, verbose=True)\n",
    "        \n",
    "        pc = Pinecone(api_key=pinecone_api_key)\n",
    "    \n",
    "    if build_index and docs is not None:\n",
    "        vector_store = Pinecone.from_documents(docs, embeddings, index_name=index_name)\n",
    "    else:\n",
    "        index = pc.Index(index_name)\n",
    "        vector_store = pine(index, embeddings, \"text\")\n",
    "    return chain, embeddings, vector_store"
   ]
  },
  {
   "cell_type": "markdown",
   "id": "d7ad32a5-4538-4fb0-9bc9-ed4aaa1faa64",
   "metadata": {},
   "source": [
    "### Similarity and Lang"
   ]
  },
  {
   "cell_type": "code",
   "execution_count": 24,
   "id": "d6f747e8-6872-4866-ac7a-9bd698bc68e9",
   "metadata": {},
   "outputs": [],
   "source": [
    "def get_similiar_docs(index, query, k=2, score=False):\n",
    "    if score:\n",
    "        similar_docs = index.similarity_search_with_score(query, k=k)\n",
    "    else:\n",
    "        similar_docs = index.similarity_search(query, k=k)\n",
    "    return similar_docs\n",
    "\n",
    "def get_answer(chain, index, query):\n",
    "    similar_docs = get_similiar_docs(index, query)\n",
    "    answer = chain.run(input_documents=similar_docs, question=query)\n",
    "    return answer"
   ]
  },
  {
   "cell_type": "code",
   "execution_count": 25,
   "id": "18cde5b7-9880-4329-a1d2-6dae88cd43f3",
   "metadata": {},
   "outputs": [],
   "source": [
    "def get_answer_revise(chain, index, query):\n",
    "    similar_docs = get_similiar_docs(index, query)\n",
    "    context = \"\\n\\n\".join([doc.page_content for doc in similar_docs])\n",
    "    answer = chain.run({'context':context, 'query':query})\n",
    "    return answer"
   ]
  },
  {
   "cell_type": "code",
   "execution_count": 26,
   "id": "3a380318-5d96-4136-9f1d-8ff1186d0527",
   "metadata": {},
   "outputs": [],
   "source": [
    "chain, embeddings, vector_store = create_backend(build_index=False, docs=None, revise=True)"
   ]
  },
  {
   "cell_type": "code",
   "execution_count": null,
   "id": "0f469d3f-5015-4bbe-8dba-0e3ce4d4c925",
   "metadata": {},
   "outputs": [],
   "source": []
  },
  {
   "cell_type": "code",
   "execution_count": 27,
   "id": "208ebd65-88ed-4307-83cf-0da93230ea11",
   "metadata": {},
   "outputs": [],
   "source": [
    "### Question and Answer"
   ]
  },
  {
   "cell_type": "code",
   "execution_count": 28,
   "id": "5547e17b-097b-4a04-ac2d-53d084831a45",
   "metadata": {},
   "outputs": [],
   "source": [
    "qry = \"Why is Supreme Court warning Patanjali?\""
   ]
  },
  {
   "cell_type": "code",
   "execution_count": 29,
   "id": "a88536b8-1f46-4f67-8d34-54c31781416e",
   "metadata": {},
   "outputs": [
    {
     "data": {
      "text/plain": [
       "[Document(page_content='\"The Supreme Court has issued a stern warning to Patanjali Ayurveda, cautioning against misleading advertisements and false claims targeting modern medicines and vaccinations.\\\\nIn response to a petition filed by the Indian Medical Association (IMA), the court has instructed Patanjali to refrain from making any deceptive statements and has threatened significant penalties for non-compliance.\\\\nA Bench of Justices Ahsanuddin Amanullah and Prashant Kumar Mishra emphasised that the issue could not be', metadata={'Author': 'Moneycontrol News', 'Date': 'November 21, 2023', 'Link': 'https://www.moneycontrol.com/news/business/markets/supreme-court-warns-patanjali-ayurveda-over-deceptive-medical-claims-threatens-severe-penalties-11783361.html', 'Title': 'A Bench of Justices Ahsanuddin Amanullah and Prashant Kumar Mishra stressed that the issue could not be reduced to a debate between allopathy/modern medicine and Ayurvedic products.'}),\n",
       " Document(page_content=\"Supreme Court has urged the Union to present a proposal aimed at tackling misleading medical advertisements more broadly. The move comes in response to concerns raised by the IMA regarding Patanjali's campaigns that seemingly criticized modern medicine and vaccination efforts.\\\\nThe Supreme Court's intervention underscores the gravity of the issue, emphasizing the need for responsible advertising in the medical field. The outcome of this legal development could have implications not only for\", metadata={'Author': 'Moneycontrol News', 'Date': 'November 21, 2023', 'Link': 'https://www.moneycontrol.com/news/business/markets/supreme-court-warns-patanjali-ayurveda-over-deceptive-medical-claims-threatens-severe-penalties-11783361.html', 'Title': 'A Bench of Justices Ahsanuddin Amanullah and Prashant Kumar Mishra stressed that the issue could not be reduced to a debate between allopathy/modern medicine and Ayurvedic products.'})]"
      ]
     },
     "execution_count": 29,
     "metadata": {},
     "output_type": "execute_result"
    }
   ],
   "source": [
    "get_similiar_docs(vector_store, qry)"
   ]
  },
  {
   "cell_type": "code",
   "execution_count": 30,
   "id": "dd014177-cc69-479e-abc2-87bcc91022bc",
   "metadata": {},
   "outputs": [
    {
     "name": "stderr",
     "output_type": "stream",
     "text": [
      "/usr/local/google/home/dpksharma/PersonalProjects/Workshops/rag_workshop/rag_workshop/ragws/lib/python3.9/site-packages/langchain_core/_api/deprecation.py:119: LangChainDeprecationWarning: The method `Chain.run` was deprecated in langchain 0.1.0 and will be removed in 0.3.0. Use invoke instead.\n",
      "  warn_deprecated(\n"
     ]
    },
    {
     "name": "stdout",
     "output_type": "stream",
     "text": [
      "\n",
      "\n",
      "\u001b[1m> Entering new SmartLLMChain chain...\u001b[0m\n",
      "Prompt after formatting:\n",
      "\u001b[32;1m\u001b[1;3m            Context information is below.\n",
      "            ---------------------\n",
      "            \"The Supreme Court has issued a stern warning to Patanjali Ayurveda, cautioning against misleading advertisements and false claims targeting modern medicines and vaccinations.\\nIn response to a petition filed by the Indian Medical Association (IMA), the court has instructed Patanjali to refrain from making any deceptive statements and has threatened significant penalties for non-compliance.\\nA Bench of Justices Ahsanuddin Amanullah and Prashant Kumar Mishra emphasised that the issue could not be\n",
      "\n",
      "Supreme Court has urged the Union to present a proposal aimed at tackling misleading medical advertisements more broadly. The move comes in response to concerns raised by the IMA regarding Patanjali's campaigns that seemingly criticized modern medicine and vaccination efforts.\\nThe Supreme Court's intervention underscores the gravity of the issue, emphasizing the need for responsible advertising in the medical field. The outcome of this legal development could have implications not only for\n",
      "            ---------------------\n",
      "            Given the context information and not prior knowledge, answer the query.\n",
      "            Query: Why is Supreme Court warning Patanjali?\n",
      "            Answer:             \u001b[0m\n",
      "Idea 1:\n",
      "\u001b[36;1m\u001b[1;3mThe Supreme Court is warning Patanjali due to misleading advertisements and false claims targeting modern medicines and vaccinations. This warning was issued in response to a petition filed by the Indian Medical Association (IMA), which raised concerns about Patanjali's campaigns that seemingly criticized modern medicine and vaccination efforts. The court has instructed Patanjali to refrain from making any deceptive statements and has threatened significant penalties for non-compliance.\u001b[0m\n",
      "Idea 2:\n",
      "\u001b[36;1m\u001b[1;3mThe Supreme Court is warning Patanjali due to misleading advertisements and false claims targeting modern medicines and vaccinations. This warning was issued in response to a petition filed by the Indian Medical Association (IMA), which raised concerns about Patanjali's campaigns that seemingly criticized modern medicine and vaccination efforts. The court has instructed Patanjali to refrain from making any deceptive statements and has threatened significant penalties for non-compliance.\u001b[0m\n",
      "Idea 3:\n",
      "\u001b[36;1m\u001b[1;3mThe Supreme Court is warning Patanjali due to misleading advertisements and false claims targeting modern medicines and vaccinations. This warning came in response to a petition filed by the Indian Medical Association (IMA). The court has instructed Patanjali to refrain from making any deceptive statements and has threatened significant penalties for non-compliance.\u001b[0m\n",
      "Critique:\n",
      "\u001b[33;1m\u001b[1;3mAnswer Option 1: \n",
      "Flaws: There are no apparent flaws or faulty logic in this response. It accurately summarizes the information provided in the context, explaining why the Supreme Court is warning Patanjali.\n",
      "\n",
      "Answer Option 2: \n",
      "Flaws: This response is identical to the first one. It does not provide any new or different information, which makes it redundant.\n",
      "\n",
      "Answer Option 3: \n",
      "Flaws: This response is also very similar to the first one. It does not provide any new or different information, which makes it redundant. It also omits the detail about the Supreme Court urging the Union to present a proposal aimed at tackling misleading medical advertisements more broadly, which is an important aspect of the context.\u001b[0m\n",
      "Resolution:\n",
      "\u001b[32;1m\u001b[1;3mThe Supreme Court has issued a warning to Patanjali Ayurveda due to their misleading advertisements and false claims that target modern medicines and vaccinations. This action was taken in response to a petition filed by the Indian Medical Association (IMA), which expressed concerns about Patanjali's campaigns that seemingly criticized modern medicine and vaccination efforts. The court has instructed Patanjali to refrain from making any deceptive statements and has threatened significant penalties for non-compliance. Furthermore, the Supreme Court has urged the Union to present a proposal aimed at tackling misleading medical advertisements more broadly, highlighting the seriousness of the issue and the need for responsible advertising in the medical field.\u001b[0m\n",
      "\n",
      "\u001b[1m> Finished chain.\u001b[0m\n"
     ]
    },
    {
     "data": {
      "text/plain": [
       "\"The Supreme Court has issued a warning to Patanjali Ayurveda due to their misleading advertisements and false claims that target modern medicines and vaccinations. This action was taken in response to a petition filed by the Indian Medical Association (IMA), which expressed concerns about Patanjali's campaigns that seemingly criticized modern medicine and vaccination efforts. The court has instructed Patanjali to refrain from making any deceptive statements and has threatened significant penalties for non-compliance. Furthermore, the Supreme Court has urged the Union to present a proposal aimed at tackling misleading medical advertisements more broadly, highlighting the seriousness of the issue and the need for responsible advertising in the medical field.\""
      ]
     },
     "execution_count": 30,
     "metadata": {},
     "output_type": "execute_result"
    }
   ],
   "source": [
    "get_answer_revise(chain, vector_store, qry)"
   ]
  },
  {
   "cell_type": "code",
   "execution_count": 34,
   "id": "a1d62e79-6a3b-44d9-b6c6-2d4a33c1764e",
   "metadata": {},
   "outputs": [],
   "source": [
    "llm = ChatOpenAI(openai_api_key=openai_api_key,model=\"gpt-3.5-turbo\", temperature=0)"
   ]
  },
  {
   "cell_type": "code",
   "execution_count": null,
   "id": "3a428860-3a88-4236-b4cf-56c5a4ba3295",
   "metadata": {},
   "outputs": [],
   "source": []
  }
 ],
 "metadata": {
  "kernelspec": {
   "display_name": "Python 3 (ipykernel)",
   "language": "python",
   "name": "python3"
  },
  "language_info": {
   "codemirror_mode": {
    "name": "ipython",
    "version": 3
   },
   "file_extension": ".py",
   "mimetype": "text/x-python",
   "name": "python",
   "nbconvert_exporter": "python",
   "pygments_lexer": "ipython3",
   "version": "3.9.7"
  }
 },
 "nbformat": 4,
 "nbformat_minor": 5
}
