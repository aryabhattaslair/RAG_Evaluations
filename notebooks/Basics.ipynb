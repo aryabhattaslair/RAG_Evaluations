{
 "cells": [
  {
   "cell_type": "code",
   "execution_count": null,
   "id": "e2b926f2-4a7c-421c-831e-dbcb1ade911b",
   "metadata": {},
   "outputs": [],
   "source": [
    "# Basic Q and A using OpenAI and Vector DB "
   ]
  },
  {
   "cell_type": "code",
   "execution_count": 32,
   "id": "d1289672-9f5b-49f6-992a-c5a1585fcbfa",
   "metadata": {},
   "outputs": [],
   "source": [
    "import os\n",
    "import openai\n",
    "from openai import OpenAI"
   ]
  },
  {
   "cell_type": "code",
   "execution_count": null,
   "id": "abd12ef5-d280-4e80-a82d-732f9b5d10e4",
   "metadata": {},
   "outputs": [],
   "source": [
    "## Text Generation and Embeddings using OpenAI"
   ]
  },
  {
   "cell_type": "code",
   "execution_count": 8,
   "id": "448a109f",
   "metadata": {},
   "outputs": [],
   "source": [
    "def get_embedding(client, text, model=\"text-embedding-ada-002\"):\n",
    "   text = text.replace(\"\\n\", \" \")\n",
    "   return client.embeddings.create(input = [text], model=model).data[0].embedding\n",
    "\n",
    "def get_response(client, preamble, prompt):\n",
    "    response = client.chat.completions.create(\n",
    "        model=\"gpt-3.5-turbo\",\n",
    "        messages=[\n",
    "            {\"role\": \"system\", \"content\": f'{preamble}'},\n",
    "            {\"role\": \"user\", \"content\": f'{prompt}'}]\n",
    "    )\n",
    "    return response"
   ]
  },
  {
   "cell_type": "code",
   "execution_count": 4,
   "id": "0d9b08c5-566f-44df-9823-86c719f577a5",
   "metadata": {},
   "outputs": [],
   "source": []
  },
  {
   "cell_type": "code",
   "execution_count": 12,
   "id": "9bfbc85f-39e4-439e-afcf-ff600ca34846",
   "metadata": {},
   "outputs": [
    {
     "name": "stdout",
     "output_type": "stream",
     "text": [
      "In a world abuzz with cheers and clash,\n",
      "Where passions ignite, where heroes dash,\n",
      "There lies a game that stirs our soul,\n",
      "A sport that unites in one grand goal.\n",
      "\n",
      "Football, the field becomes a stage,\n",
      "Where players dance, their talents engage,\n",
      "Feet adorned with grace, they swiftly glide,\n",
      "Across the pitch, with dreams held wide.\n",
      "\n",
      "The roar of the crowd, a thunderous sound,\n",
      "An anthem of unity, resounding and profound,\n",
      "Fans from all walks of life, diverse and true,\n",
      "United in their love for the game, through and through.\n",
      "\n",
      "The ball, a sphere of hopes and dreams,\n",
      "Precious like life’s most gleaming gleams,\n",
      "Leaders emerge, bold captains of the team,\n",
      "Guiding their comrades through victory's gleam.\n",
      "\n",
      "With every pass, a symphony unfolds,\n",
      "A choreography in which stories are told,\n",
      "The ball weaves through the air with grace,\n",
      "Creating a masterpiece upon the playing space.\n",
      "\n",
      "Goalkeepers stand tall, defenders with might,\n",
      "Rising to challenge, fearless in their fight,\n",
      "Their resilience a fortress, built to withstand,\n",
      "The barrage of opposition, a collective stand.\n",
      "\n",
      "Midfield maestros orchestrate with art,\n",
      "Their vision, a canvas, playing their part,\n",
      "They orchestrate the rhythm, the ebb, the flow,\n",
      "The heartbeat of the game, setting teammates aglow.\n",
      "\n",
      "Forwards, the warriors, hungry for fame,\n",
      "Carving a path to glory, etching a name,\n",
      "With speed and agility, they race towards fate,\n",
      "Their shooting prowess, a cannon to detonate.\n",
      "\n",
      "In football’s realm, triumph’s not held solely,\n",
      "By those who boast strength or skill so holy,\n",
      "For it is the teamwork, the spirit’s flight,\n",
      "That conquers all, bathed in victory's light.\n",
      "\n",
      "So let us praise this beautiful game,\n",
      "Where legends are born, and fame finds its aim,\n",
      "For football unites, it transcends all borders,\n",
      "A universal language amongst all supporters.\n",
      "\n",
      "In this world, where we're all dreamers,\n",
      "Football remains the ultimate redeemer,\n",
      "A poet's muse, an artist's delight,\n",
      "Weaving tales of glory, from day until night.\n"
     ]
    }
   ],
   "source": [
    "os.environ['OPENAI_API_KEY'] = \"open_ai_key\"\n",
    "client = OpenAI()\n",
    "preamble = \"You are a famous song writer.\"\n",
    "prompt = \"Write a poem on football.\"\n",
    "response = get_response(client, preamble, prompt)\n",
    "# print(response)\n",
    "text = response.choices[0].message.content\n",
    "print(text)\n",
    "# print(get_embedding(client, text))"
   ]
  },
  {
   "cell_type": "code",
   "execution_count": null,
   "id": "a3cfc9dc-c5ce-4637-b9b7-a1b3208e3a09",
   "metadata": {},
   "outputs": [],
   "source": [
    "## Answering Questions from a Context"
   ]
  },
  {
   "cell_type": "code",
   "execution_count": 13,
   "id": "9cd88712-b77a-4a41-9581-9a2f04361460",
   "metadata": {},
   "outputs": [],
   "source": [
    "from datasets import load_dataset"
   ]
  },
  {
   "cell_type": "code",
   "execution_count": 14,
   "id": "b9bace81-046a-4907-83d7-1399fdee4b8f",
   "metadata": {},
   "outputs": [],
   "source": [
    "dataset = load_dataset(\"godivyam/business-companies-news-dataset\", split='train')"
   ]
  },
  {
   "cell_type": "code",
   "execution_count": 15,
   "id": "596bcbfb-92ad-4a85-81b4-39e5cd617998",
   "metadata": {},
   "outputs": [
    {
     "data": {
      "text/plain": [
       "{'Date': 'November 26, 2023',\n",
       " 'Content': \"The National Company Law Appellate Tribunal (NCLAT) adjourned the final hearing of tech giant Google's appeal against the order by Competition Commission of India (CCI) imposing a penalty of Rs 936 crore for abusing its dominant position in the playstore ecosystem.\\nThe NCLAT released a notice on November 24 deferring the hearing of Google's appeal, the appellate tribunal was to commence the hearing on November 28. On September 25, theNCLAT announced that it will commence the final hearingof the case.\\nOn January 11, thetribunal refused to grant immediate reliefto Google against CCI’s order and posted the case for the final hearing in April 2023. While Google filed an appeal at the Supreme Court against the NCLAT order, it ultimatelywithdrewthe case.\\nThe CCI on October 25, 2022,penalisedthe tech giant for restricting app developers from using any third-party billing or payment processing services to purchase apps for in-app billing on Google Play Store. Google Play Store is a digital distribution service operated and developed by Google, from where mobile apps are downloaded.\\nThe CCIheldthat making access to Play Store, for app developers, dependent on mandatory usage of Google Play Billing System (GPBS) for paid apps and in-app purchases constitutes an imposition of an unfair condition on app developers. The CCI held that Google was following discriminatory practices by not using GPBS for its own application – YouTube.\\n\",\n",
       " 'Author': 'S.N.Thyagarajan',\n",
       " 'Link': 'https://www.moneycontrol.com/news/trends/legal/nclat-defers-final-hearing-of-googles-appeal-against-ccis-rs-936-crore-penalty-11812791.html',\n",
       " 'Title': \"The NCLAT released a notice on November 24 deferring the hearing of Google's appeal, the appellate tribunal was to commence the hearing on November 28.\"}"
      ]
     },
     "execution_count": 15,
     "metadata": {},
     "output_type": "execute_result"
    }
   ],
   "source": [
    "dataset[0]"
   ]
  },
  {
   "cell_type": "code",
   "execution_count": 16,
   "id": "bf52d3ea-45f5-4a39-a25a-115a9f7523f6",
   "metadata": {},
   "outputs": [
    {
     "name": "stdout",
     "output_type": "stream",
     "text": [
      "Google's appeal to the NCLAT is against the order by the Competition Commission of India (CCI) imposing a penalty of Rs 936 crore for abusing its dominant position in the playstore ecosystem. Google is challenging the CCI's finding that it had restricted app developers from using any third-party billing or payment processing services to purchase apps for in-app billing on the Google Play Store. Google argues that it did not violate any competition laws and that its practices were justified.\n"
     ]
    }
   ],
   "source": [
    "preamble = dataset[0]['Content']\n",
    "prompt = \"What is Google's appeal to NCLAT?\"\n",
    "response = get_response(client, preamble, prompt)\n",
    "text = response.choices[0].message.content\n",
    "print(text)"
   ]
  },
  {
   "cell_type": "code",
   "execution_count": null,
   "id": "32cb8e28-42f5-4103-81cc-3a4984c6497b",
   "metadata": {},
   "outputs": [],
   "source": [
    "## Using a vector DB and Index"
   ]
  },
  {
   "cell_type": "code",
   "execution_count": 17,
   "id": "7df38dc9-b1fd-4a24-8b17-018f555a9a5a",
   "metadata": {},
   "outputs": [],
   "source": [
    "import chromadb"
   ]
  },
  {
   "cell_type": "code",
   "execution_count": 18,
   "id": "b3de05ad-5bb0-4764-9bcf-9999f36823e9",
   "metadata": {},
   "outputs": [],
   "source": [
    "from chromadb.utils import embedding_functions"
   ]
  },
  {
   "cell_type": "code",
   "execution_count": 33,
   "id": "cbeef618-9549-4100-8ef3-391a42188cbd",
   "metadata": {},
   "outputs": [],
   "source": [
    "def return_embedding(text):\n",
    "    response = openai.Embedding.create(model=\"text-embedding-ada-002\", input=text)\n",
    "    return response[\"data\"][0][\"embedding\"]"
   ]
  },
  {
   "cell_type": "code",
   "execution_count": 19,
   "id": "71fad051-0bd0-4c10-bcfc-3499d07be058",
   "metadata": {},
   "outputs": [],
   "source": [
    "openai_ef = embedding_functions.OpenAIEmbeddingFunction(\n",
    "                api_key=os.environ[\"OPENAI_API_KEY\"],\n",
    "                model_name=\"text-embedding-ada-002\"\n",
    "            )"
   ]
  },
  {
   "cell_type": "code",
   "execution_count": 20,
   "id": "88b70182-dd4d-44f9-b1ce-fef820a34f4c",
   "metadata": {},
   "outputs": [],
   "source": [
    "client = chromadb.Client()\n",
    "collection = client.get_or_create_collection(\"companies-news\",embedding_function=openai_ef)"
   ]
  },
  {
   "cell_type": "code",
   "execution_count": 23,
   "id": "86f9be30-a17d-42bf-803a-dc0c1592a5e1",
   "metadata": {},
   "outputs": [],
   "source": [
    "docs = []\n",
    "ids = []\n",
    "for i,doc in enumerate(dataset):\n",
    "    docs.append(doc['Content'])\n",
    "    ids.append(str(i))"
   ]
  },
  {
   "cell_type": "code",
   "execution_count": 24,
   "id": "f705c32d-b0b0-41f8-b0d0-021b14bc337d",
   "metadata": {},
   "outputs": [],
   "source": [
    "collection.add(\n",
    "    documents=docs,\n",
    "    ids=ids\n",
    ")"
   ]
  },
  {
   "cell_type": "code",
   "execution_count": 25,
   "id": "5de266ba-e4ec-4d7c-864a-aa5644404483",
   "metadata": {},
   "outputs": [],
   "source": [
    "query = \"google appeal NCLAT\"\n",
    "prompt = \"What is Google's appeal to NCLAT?\""
   ]
  },
  {
   "cell_type": "code",
   "execution_count": 35,
   "id": "62a53f07-1ad2-4eab-b6d1-e6281e9ce143",
   "metadata": {},
   "outputs": [],
   "source": [
    "openai_client = OpenAI()"
   ]
  },
  {
   "cell_type": "code",
   "execution_count": 38,
   "id": "324900eb-a6e4-4653-afce-828a75fdfa51",
   "metadata": {},
   "outputs": [],
   "source": [
    "vector=get_embedding(openai_client, query)\n",
    "results=collection.query(\n",
    "    query_embeddings=vector,\n",
    "    n_results=2,\n",
    "    include=[\"documents\"]\n",
    ")"
   ]
  },
  {
   "cell_type": "code",
   "execution_count": 39,
   "id": "ff806e32-113c-49fc-890e-f600abd2433d",
   "metadata": {},
   "outputs": [
    {
     "data": {
      "text/plain": [
       "{'ids': [['0', '16']],\n",
       " 'distances': None,\n",
       " 'metadatas': None,\n",
       " 'embeddings': None,\n",
       " 'documents': [[\"The National Company Law Appellate Tribunal (NCLAT) adjourned the final hearing of tech giant Google's appeal against the order by Competition Commission of India (CCI) imposing a penalty of Rs 936 crore for abusing its dominant position in the playstore ecosystem.\\nThe NCLAT released a notice on November 24 deferring the hearing of Google's appeal, the appellate tribunal was to commence the hearing on November 28. On September 25, theNCLAT announced that it will commence the final hearingof the case.\\nOn January 11, thetribunal refused to grant immediate reliefto Google against CCI’s order and posted the case for the final hearing in April 2023. While Google filed an appeal at the Supreme Court against the NCLAT order, it ultimatelywithdrewthe case.\\nThe CCI on October 25, 2022,penalisedthe tech giant for restricting app developers from using any third-party billing or payment processing services to purchase apps for in-app billing on Google Play Store. Google Play Store is a digital distribution service operated and developed by Google, from where mobile apps are downloaded.\\nThe CCIheldthat making access to Play Store, for app developers, dependent on mandatory usage of Google Play Billing System (GPBS) for paid apps and in-app purchases constitutes an imposition of an unfair condition on app developers. The CCI held that Google was following discriminatory practices by not using GPBS for its own application – YouTube.\\n\",\n",
       "   \"The National Company Law Tribunal (NCLT), on November 23, extended the Corporate Insolvency Resolution Process (CIRP) of the grounded airline Go First by 90 days.\\nThe 90-day extension commences on November 6 this year and ends on February 4, 2024. The NCLT directed that the resolution plan be completed within the stipulated period of time. Furthermore, the tribunal dismissed the objections by the airline's lessor for the extension.\\nGo First's Resolution Professional (RP) told the tribunal that there is one prospective bidder for the airline, however, they did not submit the resolution plan till the November 21 deadline. He further argued that the Committee of Creditors (CoC) is now reconsidering the next course of action for the airline.\\nThe RP told the NCLT that the CoC has passed a resolution for seeking this extension by a 100 percent vote.\\nAccording to the Insolvency and Bankruptcy Code (IBC), 2016, a resolution process must be completed by 180 days and the NCLT has the powers to extend the period for completing the resolution process to a maximum of 330 days. If there is no resolution to a company's insolvency even at the end of 330 days, the NCLT has to order liquidation of the company. On February 4, the airline would have been under the resolution process for 270 days.\\nOn November 21,Reutersreported that Jindal Power Ltd, theonly company whose expression of interest (EoI)to take over Go First was accepted by creditors, has decided to not follow through with a bid, three people familiar with the plans said, pushing the insolvent airline closer to liquidation.\\nGo First insolvency at NCLT\\nOn May 2, 2023, Go First filed a plea in the NCLT under Section 10,asking to be admitted to the Corporate Insolvency Resolution Process (CIRP) voluntarily.On May 10, the NCLT admitted Go First’s insolvency plea, and appointed a Resolution Professional (RP) to run the affairs of the company.\\nHowever, Go First’s aircraft lessors filed an appeal against the NCLT order in the National Company Law Appellate Tribunal (NCLAT) stating that their assets had unfairly been taken from them as they had terminated the leases before the moratorium.\\nThe corporate affairs ministry, meanwhile, issued a notification exempting aviation leases from the moratorium. This, coupled with a change in the bench, led to the case being deferred.\\nHowever, in what could be considered a blow to the Go First revival plan, the Director General of Civil Aviation (DGCA) filed an affidavit in the Delhi High Court clarifying that the notification exempting aviation leases from moratorium under the Insolvency and Bankruptcy Code 2016 should apply to pending cases as well.\\n\"]],\n",
       " 'uris': None,\n",
       " 'data': None}"
      ]
     },
     "execution_count": 39,
     "metadata": {},
     "output_type": "execute_result"
    }
   ],
   "source": [
    "results"
   ]
  },
  {
   "cell_type": "code",
   "execution_count": 40,
   "id": "7869c06b-6fae-4315-b8b0-a34490fd9227",
   "metadata": {},
   "outputs": [],
   "source": [
    "context = \"\\n\".join(str(item) for item in results['documents'][0])"
   ]
  },
  {
   "cell_type": "code",
   "execution_count": 41,
   "id": "05f045fb-4093-4c16-ae06-55c94a57cc14",
   "metadata": {},
   "outputs": [],
   "source": [
    "preamble = f'Please answer using the context below. {context}'"
   ]
  },
  {
   "cell_type": "code",
   "execution_count": 42,
   "id": "fd784a0e-76ff-42b7-9edc-e144c05aa6ff",
   "metadata": {},
   "outputs": [
    {
     "name": "stdout",
     "output_type": "stream",
     "text": [
      "Google's appeal to the National Company Law Appellate Tribunal (NCLAT) is against the order by the Competition Commission of India (CCI) imposing a penalty of Rs 936 crore on Google for abusing its dominant position in the playstore ecosystem.\n"
     ]
    }
   ],
   "source": [
    "response = get_response(openai_client, preamble, prompt)\n",
    "text = response.choices[0].message.content\n",
    "print(text)"
   ]
  },
  {
   "cell_type": "code",
   "execution_count": null,
   "id": "c2de2c23-7b23-41d4-a321-b0a003f421d6",
   "metadata": {},
   "outputs": [],
   "source": []
  }
 ],
 "metadata": {
  "kernelspec": {
   "display_name": "Python 3 (ipykernel)",
   "language": "python",
   "name": "python3"
  },
  "language_info": {
   "codemirror_mode": {
    "name": "ipython",
    "version": 3
   },
   "file_extension": ".py",
   "mimetype": "text/x-python",
   "name": "python",
   "nbconvert_exporter": "python",
   "pygments_lexer": "ipython3",
   "version": "3.9.7"
  }
 },
 "nbformat": 4,
 "nbformat_minor": 5
}
